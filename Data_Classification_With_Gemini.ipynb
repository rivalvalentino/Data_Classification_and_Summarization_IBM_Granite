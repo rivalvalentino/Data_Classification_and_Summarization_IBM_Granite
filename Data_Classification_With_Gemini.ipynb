{
  "nbformat": 4,
  "nbformat_minor": 0,
  "metadata": {
    "colab": {
      "provenance": [],
      "toc_visible": true
    },
    "kernelspec": {
      "name": "python3",
      "display_name": "Python 3"
    },
    "language_info": {
      "name": "python"
    },
    "widgets": {
      "application/vnd.jupyter.widget-state+json": {
        "ddb7380d099c49be9c337b6fd9e6022f": {
          "model_module": "@jupyter-widgets/controls",
          "model_name": "HBoxModel",
          "model_module_version": "1.5.0",
          "state": {
            "_dom_classes": [],
            "_model_module": "@jupyter-widgets/controls",
            "_model_module_version": "1.5.0",
            "_model_name": "HBoxModel",
            "_view_count": null,
            "_view_module": "@jupyter-widgets/controls",
            "_view_module_version": "1.5.0",
            "_view_name": "HBoxView",
            "box_style": "",
            "children": [
              "IPY_MODEL_3170ff25bfce445eb6d943f1f6794972",
              "IPY_MODEL_caa23f05f532417c8bd505e5bb1dd79a",
              "IPY_MODEL_dd882808044a444a8e81cf8eb2f37594"
            ],
            "layout": "IPY_MODEL_8dd12580e6484f0ba12596a2fd2be8d5"
          }
        },
        "3170ff25bfce445eb6d943f1f6794972": {
          "model_module": "@jupyter-widgets/controls",
          "model_name": "HTMLModel",
          "model_module_version": "1.5.0",
          "state": {
            "_dom_classes": [],
            "_model_module": "@jupyter-widgets/controls",
            "_model_module_version": "1.5.0",
            "_model_name": "HTMLModel",
            "_view_count": null,
            "_view_module": "@jupyter-widgets/controls",
            "_view_module_version": "1.5.0",
            "_view_name": "HTMLView",
            "description": "",
            "description_tooltip": null,
            "layout": "IPY_MODEL_db9580d7945b4e78b42f22f0d2795111",
            "placeholder": "​",
            "style": "IPY_MODEL_1267a228b5474c0b840bfc40c646f403",
            "value": "100%"
          }
        },
        "caa23f05f532417c8bd505e5bb1dd79a": {
          "model_module": "@jupyter-widgets/controls",
          "model_name": "FloatProgressModel",
          "model_module_version": "1.5.0",
          "state": {
            "_dom_classes": [],
            "_model_module": "@jupyter-widgets/controls",
            "_model_module_version": "1.5.0",
            "_model_name": "FloatProgressModel",
            "_view_count": null,
            "_view_module": "@jupyter-widgets/controls",
            "_view_module_version": "1.5.0",
            "_view_name": "ProgressView",
            "bar_style": "success",
            "description": "",
            "description_tooltip": null,
            "layout": "IPY_MODEL_2fc24e6845564fbc9187710edbdb56fc",
            "max": 21,
            "min": 0,
            "orientation": "horizontal",
            "style": "IPY_MODEL_9b4dfec06013429c87e4967f584c67aa",
            "value": 21
          }
        },
        "dd882808044a444a8e81cf8eb2f37594": {
          "model_module": "@jupyter-widgets/controls",
          "model_name": "HTMLModel",
          "model_module_version": "1.5.0",
          "state": {
            "_dom_classes": [],
            "_model_module": "@jupyter-widgets/controls",
            "_model_module_version": "1.5.0",
            "_model_name": "HTMLModel",
            "_view_count": null,
            "_view_module": "@jupyter-widgets/controls",
            "_view_module_version": "1.5.0",
            "_view_name": "HTMLView",
            "description": "",
            "description_tooltip": null,
            "layout": "IPY_MODEL_d04c78d8af8446c3b50155cbc2aa5571",
            "placeholder": "​",
            "style": "IPY_MODEL_fc99fbd06e5f4cc08166c1d2ec3ecff3",
            "value": " 21/21 [00:11&lt;00:00,  1.41it/s]"
          }
        },
        "8dd12580e6484f0ba12596a2fd2be8d5": {
          "model_module": "@jupyter-widgets/base",
          "model_name": "LayoutModel",
          "model_module_version": "1.2.0",
          "state": {
            "_model_module": "@jupyter-widgets/base",
            "_model_module_version": "1.2.0",
            "_model_name": "LayoutModel",
            "_view_count": null,
            "_view_module": "@jupyter-widgets/base",
            "_view_module_version": "1.2.0",
            "_view_name": "LayoutView",
            "align_content": null,
            "align_items": null,
            "align_self": null,
            "border": null,
            "bottom": null,
            "display": null,
            "flex": null,
            "flex_flow": null,
            "grid_area": null,
            "grid_auto_columns": null,
            "grid_auto_flow": null,
            "grid_auto_rows": null,
            "grid_column": null,
            "grid_gap": null,
            "grid_row": null,
            "grid_template_areas": null,
            "grid_template_columns": null,
            "grid_template_rows": null,
            "height": null,
            "justify_content": null,
            "justify_items": null,
            "left": null,
            "margin": null,
            "max_height": null,
            "max_width": null,
            "min_height": null,
            "min_width": null,
            "object_fit": null,
            "object_position": null,
            "order": null,
            "overflow": null,
            "overflow_x": null,
            "overflow_y": null,
            "padding": null,
            "right": null,
            "top": null,
            "visibility": null,
            "width": null
          }
        },
        "db9580d7945b4e78b42f22f0d2795111": {
          "model_module": "@jupyter-widgets/base",
          "model_name": "LayoutModel",
          "model_module_version": "1.2.0",
          "state": {
            "_model_module": "@jupyter-widgets/base",
            "_model_module_version": "1.2.0",
            "_model_name": "LayoutModel",
            "_view_count": null,
            "_view_module": "@jupyter-widgets/base",
            "_view_module_version": "1.2.0",
            "_view_name": "LayoutView",
            "align_content": null,
            "align_items": null,
            "align_self": null,
            "border": null,
            "bottom": null,
            "display": null,
            "flex": null,
            "flex_flow": null,
            "grid_area": null,
            "grid_auto_columns": null,
            "grid_auto_flow": null,
            "grid_auto_rows": null,
            "grid_column": null,
            "grid_gap": null,
            "grid_row": null,
            "grid_template_areas": null,
            "grid_template_columns": null,
            "grid_template_rows": null,
            "height": null,
            "justify_content": null,
            "justify_items": null,
            "left": null,
            "margin": null,
            "max_height": null,
            "max_width": null,
            "min_height": null,
            "min_width": null,
            "object_fit": null,
            "object_position": null,
            "order": null,
            "overflow": null,
            "overflow_x": null,
            "overflow_y": null,
            "padding": null,
            "right": null,
            "top": null,
            "visibility": null,
            "width": null
          }
        },
        "1267a228b5474c0b840bfc40c646f403": {
          "model_module": "@jupyter-widgets/controls",
          "model_name": "DescriptionStyleModel",
          "model_module_version": "1.5.0",
          "state": {
            "_model_module": "@jupyter-widgets/controls",
            "_model_module_version": "1.5.0",
            "_model_name": "DescriptionStyleModel",
            "_view_count": null,
            "_view_module": "@jupyter-widgets/base",
            "_view_module_version": "1.2.0",
            "_view_name": "StyleView",
            "description_width": ""
          }
        },
        "2fc24e6845564fbc9187710edbdb56fc": {
          "model_module": "@jupyter-widgets/base",
          "model_name": "LayoutModel",
          "model_module_version": "1.2.0",
          "state": {
            "_model_module": "@jupyter-widgets/base",
            "_model_module_version": "1.2.0",
            "_model_name": "LayoutModel",
            "_view_count": null,
            "_view_module": "@jupyter-widgets/base",
            "_view_module_version": "1.2.0",
            "_view_name": "LayoutView",
            "align_content": null,
            "align_items": null,
            "align_self": null,
            "border": null,
            "bottom": null,
            "display": null,
            "flex": null,
            "flex_flow": null,
            "grid_area": null,
            "grid_auto_columns": null,
            "grid_auto_flow": null,
            "grid_auto_rows": null,
            "grid_column": null,
            "grid_gap": null,
            "grid_row": null,
            "grid_template_areas": null,
            "grid_template_columns": null,
            "grid_template_rows": null,
            "height": null,
            "justify_content": null,
            "justify_items": null,
            "left": null,
            "margin": null,
            "max_height": null,
            "max_width": null,
            "min_height": null,
            "min_width": null,
            "object_fit": null,
            "object_position": null,
            "order": null,
            "overflow": null,
            "overflow_x": null,
            "overflow_y": null,
            "padding": null,
            "right": null,
            "top": null,
            "visibility": null,
            "width": null
          }
        },
        "9b4dfec06013429c87e4967f584c67aa": {
          "model_module": "@jupyter-widgets/controls",
          "model_name": "ProgressStyleModel",
          "model_module_version": "1.5.0",
          "state": {
            "_model_module": "@jupyter-widgets/controls",
            "_model_module_version": "1.5.0",
            "_model_name": "ProgressStyleModel",
            "_view_count": null,
            "_view_module": "@jupyter-widgets/base",
            "_view_module_version": "1.2.0",
            "_view_name": "StyleView",
            "bar_color": null,
            "description_width": ""
          }
        },
        "d04c78d8af8446c3b50155cbc2aa5571": {
          "model_module": "@jupyter-widgets/base",
          "model_name": "LayoutModel",
          "model_module_version": "1.2.0",
          "state": {
            "_model_module": "@jupyter-widgets/base",
            "_model_module_version": "1.2.0",
            "_model_name": "LayoutModel",
            "_view_count": null,
            "_view_module": "@jupyter-widgets/base",
            "_view_module_version": "1.2.0",
            "_view_name": "LayoutView",
            "align_content": null,
            "align_items": null,
            "align_self": null,
            "border": null,
            "bottom": null,
            "display": null,
            "flex": null,
            "flex_flow": null,
            "grid_area": null,
            "grid_auto_columns": null,
            "grid_auto_flow": null,
            "grid_auto_rows": null,
            "grid_column": null,
            "grid_gap": null,
            "grid_row": null,
            "grid_template_areas": null,
            "grid_template_columns": null,
            "grid_template_rows": null,
            "height": null,
            "justify_content": null,
            "justify_items": null,
            "left": null,
            "margin": null,
            "max_height": null,
            "max_width": null,
            "min_height": null,
            "min_width": null,
            "object_fit": null,
            "object_position": null,
            "order": null,
            "overflow": null,
            "overflow_x": null,
            "overflow_y": null,
            "padding": null,
            "right": null,
            "top": null,
            "visibility": null,
            "width": null
          }
        },
        "fc99fbd06e5f4cc08166c1d2ec3ecff3": {
          "model_module": "@jupyter-widgets/controls",
          "model_name": "DescriptionStyleModel",
          "model_module_version": "1.5.0",
          "state": {
            "_model_module": "@jupyter-widgets/controls",
            "_model_module_version": "1.5.0",
            "_model_name": "DescriptionStyleModel",
            "_view_count": null,
            "_view_module": "@jupyter-widgets/base",
            "_view_module_version": "1.2.0",
            "_view_name": "StyleView",
            "description_width": ""
          }
        }
      }
    }
  },
  "cells": [
    {
      "cell_type": "code",
      "execution_count": 5,
      "metadata": {
        "id": "bESyHRz3N7ST"
      },
      "outputs": [],
      "source": [
        "# Langkah 1: Instalasi library yang dibutuhkan untuk Gemini\n",
        "!pip install -q langchain-google-genai pandas matplotlib seaborn"
      ]
    },
    {
      "cell_type": "code",
      "source": [
        "import google.generativeai as genai\n",
        "import os\n",
        "from google.colab import userdata\n",
        "\n",
        "# Pastikan API key Anda sudah di-set\n",
        "try:\n",
        "    gemini_key = userdata.get('GOOGLE_API_KEY')\n",
        "    os.environ[\"GOOGLE_API_KEY\"] = gemini_key\n",
        "    genai.configure(api_key=gemini_key)\n",
        "\n",
        "    print(\"Model yang mendukung 'generateContent':\")\n",
        "    for model in genai.list_models():\n",
        "      # Memeriksa apakah metode 'generateContent' didukung oleh model\n",
        "      if 'generateContent' in model.supported_generation_methods:\n",
        "        print(f\"- {model.name}\")\n",
        "\n",
        "except Exception as e:\n",
        "    print(f\"🔴 Gagal memuat API Key atau menampilkan model. Error: {e}\")"
      ],
      "metadata": {
        "colab": {
          "base_uri": "https://localhost:8080/",
          "height": 746
        },
        "id": "EC_1MTExOLVm",
        "outputId": "170d687d-e6b9-4ccf-c03e-5fefaf344f2a"
      },
      "execution_count": 13,
      "outputs": [
        {
          "output_type": "stream",
          "name": "stdout",
          "text": [
            "Model yang mendukung 'generateContent':\n",
            "- models/gemini-1.5-pro-latest\n",
            "- models/gemini-1.5-pro-002\n",
            "- models/gemini-1.5-pro\n",
            "- models/gemini-1.5-flash-latest\n",
            "- models/gemini-1.5-flash\n",
            "- models/gemini-1.5-flash-002\n",
            "- models/gemini-1.5-flash-8b\n",
            "- models/gemini-1.5-flash-8b-001\n",
            "- models/gemini-1.5-flash-8b-latest\n",
            "- models/gemini-2.5-pro-preview-03-25\n",
            "- models/gemini-2.5-flash-preview-05-20\n",
            "- models/gemini-2.5-flash\n",
            "- models/gemini-2.5-flash-lite-preview-06-17\n",
            "- models/gemini-2.5-pro-preview-05-06\n",
            "- models/gemini-2.5-pro-preview-06-05\n",
            "- models/gemini-2.5-pro\n",
            "- models/gemini-2.0-flash-exp\n",
            "- models/gemini-2.0-flash\n",
            "- models/gemini-2.0-flash-001\n",
            "- models/gemini-2.0-flash-exp-image-generation\n",
            "- models/gemini-2.0-flash-lite-001\n",
            "- models/gemini-2.0-flash-lite\n",
            "- models/gemini-2.0-flash-preview-image-generation\n",
            "- models/gemini-2.0-flash-lite-preview-02-05\n",
            "- models/gemini-2.0-flash-lite-preview\n",
            "- models/gemini-2.0-pro-exp\n",
            "- models/gemini-2.0-pro-exp-02-05\n",
            "- models/gemini-exp-1206\n",
            "- models/gemini-2.0-flash-thinking-exp-01-21\n",
            "- models/gemini-2.0-flash-thinking-exp\n",
            "- models/gemini-2.0-flash-thinking-exp-1219\n",
            "- models/gemini-2.5-flash-preview-tts\n",
            "- models/gemini-2.5-pro-preview-tts\n",
            "- models/learnlm-2.0-flash-experimental\n",
            "- models/gemma-3-1b-it\n",
            "- models/gemma-3-4b-it\n",
            "- models/gemma-3-12b-it\n",
            "- models/gemma-3-27b-it\n",
            "- models/gemma-3n-e4b-it\n",
            "- models/gemma-3n-e2b-it\n",
            "- models/gemini-2.5-flash-lite\n"
          ]
        }
      ]
    },
    {
      "cell_type": "code",
      "source": [
        "# Mengasumsikan file 'reviews.csv' sudah ada\n",
        "print(\"Membaca data dari reviews.csv...\")\n",
        "df = pd.read_csv('reviews.csv')\n",
        "\n",
        "# Menampilkan seluruh isi DataFrame\n",
        "print(\"Menampilkan semua data yang berhasil dimuat:\")\n",
        "print(df)"
      ],
      "metadata": {
        "colab": {
          "base_uri": "https://localhost:8080/"
        },
        "id": "E_3rkofXOOHN",
        "outputId": "a1abe85b-a62a-404b-bb20-067c687c7b12"
      },
      "execution_count": 14,
      "outputs": [
        {
          "output_type": "stream",
          "name": "stdout",
          "text": [
            "Membaca data dari reviews.csv...\n",
            "Menampilkan semua data yang berhasil dimuat:\n",
            "                                          review_text\n",
            "0   Oh dear Shingeki no Kyojin, where do I even be...\n",
            "1   Attack on Titan is a particularly unique case ...\n",
            "2   So what on earth? What have I done? How am I n...\n",
            "3   There’s a current trend that favors dark and e...\n",
            "4   Let's get straight to it! Shingeki no Kyojin i...\n",
            "5   This anime made my mouth open wide for longer ...\n",
            "6   It's nice to have an anime this popular that i...\n",
            "7   The hype of 2013 leading to an ending that clo...\n",
            "8   Shingeki no Kyojin is an amazingly written sto...\n",
            "9   Shingeki no Kyojin, the anime that has brought...\n",
            "10  The fact that so many bloggers still name Shin...\n",
            "11  Well, I'll admit that it's been a while since ...\n",
            "12  Animation? Great quality. Premise? Interesting...\n",
            "13  So, Shingeki no Kyojin was like the most hyped...\n",
            "14  an overrated, snoozefest at best. Many of my f...\n",
            "15  This show is honestly the most overrated garba...\n",
            "16  Oh boy, Attack on Titan. Up front, the more ti...\n",
            "17  To begin, I mostly stumbled across AoT because...\n",
            "18  The best way I can think of describing my expe...\n",
            "19  When I look at the rankings of this anime, I a...\n",
            "20  Just like a lot of people I suppose, I watched...\n"
          ]
        }
      ]
    },
    {
      "cell_type": "code",
      "source": [
        "# Langkah 4: Setup Model Gemini dan Fungsi Analisis Sentimen\n",
        "# Inisialisasi model dari Google (Gemini)\n",
        "llm = ChatGoogleGenerativeAI(model=\"gemini-2.0-flash-lite\", temperature=0)\n",
        "\n",
        "def analyze_sentiment_gemini(review_text):\n",
        "    \"\"\"\n",
        "    Fungsi untuk menganalisis sentimen menggunakan Gemini.\n",
        "    Mengembalikan 'Positive', 'Negative', atau 'Mixed'.\n",
        "    \"\"\"\n",
        "    prompt = f\"\"\"\n",
        "    Classify the following review as Positive, Negative, or Mixed.\n",
        "    Only return one word for the classification.\n",
        "\n",
        "    Review: \"{review_text}\"\n",
        "    Classification:\n",
        "    \"\"\"\n",
        "    try:\n",
        "        # Memanggil model Gemini\n",
        "        response = llm.invoke(prompt)\n",
        "        # Hasil dari LangChain-Google adalah objek, ambil kontennya dengan .content\n",
        "        cleaned_response = response.content.strip().capitalize()\n",
        "\n",
        "        # Logika parsing tetap sama\n",
        "        if \"Positive\" in cleaned_response:\n",
        "            return \"Positive\"\n",
        "        elif \"Negative\" in cleaned_response:\n",
        "            return \"Negative\"\n",
        "        elif \"Mixed\" in cleaned_response:\n",
        "            return \"Mixed\"\n",
        "        else:\n",
        "            return \"Unknown\" # Fallback jika respons tidak terduga\n",
        "    except Exception as e:\n",
        "        print(f\"Error analyzing review: {e}\")\n",
        "        return \"Error\""
      ],
      "metadata": {
        "id": "Hwz9djquOWM0"
      },
      "execution_count": 24,
      "outputs": []
    },
    {
      "cell_type": "code",
      "source": [
        "#Langkah 5: Melakukan Analisis Sentimen (Hanya mengubah nama fungsi)\n",
        "print(\"\\nMemulai analisis sentimen dengan Gemini...\")\n",
        "from tqdm.auto import tqdm\n",
        "tqdm.pandas()\n",
        "\n",
        "# Pastikan kolom 'review_text' ada di DataFrame Anda\n",
        "if 'review_text' in df.columns:\n",
        "    df['sentiment'] = df['review_text'].progress_apply(analyze_sentiment_gemini)\n",
        "    print(\"\\nAnalisis sentimen selesai. Hasilnya:\")\n",
        "    print(df)\n",
        "print(df)\n",
        "print(\"\\n\" + \"=\"*40 + \"\\n\")"
      ],
      "metadata": {
        "colab": {
          "base_uri": "https://localhost:8080/",
          "height": 989,
          "referenced_widgets": [
            "ddb7380d099c49be9c337b6fd9e6022f",
            "3170ff25bfce445eb6d943f1f6794972",
            "caa23f05f532417c8bd505e5bb1dd79a",
            "dd882808044a444a8e81cf8eb2f37594",
            "8dd12580e6484f0ba12596a2fd2be8d5",
            "db9580d7945b4e78b42f22f0d2795111",
            "1267a228b5474c0b840bfc40c646f403",
            "2fc24e6845564fbc9187710edbdb56fc",
            "9b4dfec06013429c87e4967f584c67aa",
            "d04c78d8af8446c3b50155cbc2aa5571",
            "fc99fbd06e5f4cc08166c1d2ec3ecff3"
          ]
        },
        "id": "s3p9sAlYOZlR",
        "outputId": "e5709bf8-1dd5-4f93-eeeb-8c44e52683f9"
      },
      "execution_count": 25,
      "outputs": [
        {
          "output_type": "stream",
          "name": "stdout",
          "text": [
            "\n",
            "Memulai analisis sentimen dengan Gemini...\n"
          ]
        },
        {
          "output_type": "display_data",
          "data": {
            "text/plain": [
              "  0%|          | 0/21 [00:00<?, ?it/s]"
            ],
            "application/vnd.jupyter.widget-view+json": {
              "version_major": 2,
              "version_minor": 0,
              "model_id": "ddb7380d099c49be9c337b6fd9e6022f"
            }
          },
          "metadata": {}
        },
        {
          "output_type": "stream",
          "name": "stderr",
          "text": [
            "WARNING:langchain_google_genai.chat_models:Retrying langchain_google_genai.chat_models._chat_with_retry.<locals>._chat_with_retry in 2.0 seconds as it raised ResourceExhausted: 429 Resource has been exhausted (e.g. check quota)..\n",
            "WARNING:langchain_google_genai.chat_models:Retrying langchain_google_genai.chat_models._chat_with_retry.<locals>._chat_with_retry in 4.0 seconds as it raised ResourceExhausted: 429 Resource has been exhausted (e.g. check quota)..\n"
          ]
        },
        {
          "output_type": "stream",
          "name": "stdout",
          "text": [
            "\n",
            "Analisis sentimen selesai. Hasilnya:\n",
            "                                          review_text sentiment\n",
            "0   Oh dear Shingeki no Kyojin, where do I even be...  Positive\n",
            "1   Attack on Titan is a particularly unique case ...     Mixed\n",
            "2   So what on earth? What have I done? How am I n...  Negative\n",
            "3   There’s a current trend that favors dark and e...  Positive\n",
            "4   Let's get straight to it! Shingeki no Kyojin i...  Positive\n",
            "5   This anime made my mouth open wide for longer ...  Positive\n",
            "6   It's nice to have an anime this popular that i...     Mixed\n",
            "7   The hype of 2013 leading to an ending that clo...     Mixed\n",
            "8   Shingeki no Kyojin is an amazingly written sto...  Positive\n",
            "9   Shingeki no Kyojin, the anime that has brought...     Mixed\n",
            "10  The fact that so many bloggers still name Shin...  Negative\n",
            "11  Well, I'll admit that it's been a while since ...  Negative\n",
            "12  Animation? Great quality. Premise? Interesting...  Negative\n",
            "13  So, Shingeki no Kyojin was like the most hyped...  Negative\n",
            "14  an overrated, snoozefest at best. Many of my f...  Negative\n",
            "15  This show is honestly the most overrated garba...  Negative\n",
            "16  Oh boy, Attack on Titan. Up front, the more ti...  Negative\n",
            "17  To begin, I mostly stumbled across AoT because...     Mixed\n",
            "18  The best way I can think of describing my expe...  Negative\n",
            "19  When I look at the rankings of this anime, I a...  Negative\n",
            "20  Just like a lot of people I suppose, I watched...     Mixed\n",
            "                                          review_text sentiment\n",
            "0   Oh dear Shingeki no Kyojin, where do I even be...  Positive\n",
            "1   Attack on Titan is a particularly unique case ...     Mixed\n",
            "2   So what on earth? What have I done? How am I n...  Negative\n",
            "3   There’s a current trend that favors dark and e...  Positive\n",
            "4   Let's get straight to it! Shingeki no Kyojin i...  Positive\n",
            "5   This anime made my mouth open wide for longer ...  Positive\n",
            "6   It's nice to have an anime this popular that i...     Mixed\n",
            "7   The hype of 2013 leading to an ending that clo...     Mixed\n",
            "8   Shingeki no Kyojin is an amazingly written sto...  Positive\n",
            "9   Shingeki no Kyojin, the anime that has brought...     Mixed\n",
            "10  The fact that so many bloggers still name Shin...  Negative\n",
            "11  Well, I'll admit that it's been a while since ...  Negative\n",
            "12  Animation? Great quality. Premise? Interesting...  Negative\n",
            "13  So, Shingeki no Kyojin was like the most hyped...  Negative\n",
            "14  an overrated, snoozefest at best. Many of my f...  Negative\n",
            "15  This show is honestly the most overrated garba...  Negative\n",
            "16  Oh boy, Attack on Titan. Up front, the more ti...  Negative\n",
            "17  To begin, I mostly stumbled across AoT because...     Mixed\n",
            "18  The best way I can think of describing my expe...  Negative\n",
            "19  When I look at the rankings of this anime, I a...  Negative\n",
            "20  Just like a lot of people I suppose, I watched...     Mixed\n",
            "\n",
            "========================================\n",
            "\n"
          ]
        }
      ]
    },
    {
      "cell_type": "code",
      "source": [
        "nama_file_hasil = 'hasil_analisis_sentimen.csv'\n",
        "df.to_csv(nama_file_hasil, index=False)\n",
        "\n",
        "print(f\"\\n✅ Data hasil analisis telah berhasil disimpan ke file '{nama_file_hasil}'\")"
      ],
      "metadata": {
        "colab": {
          "base_uri": "https://localhost:8080/"
        },
        "id": "__tGEnEkOlH9",
        "outputId": "e398a3c2-2093-413f-9550-74aa7a6bcfb0"
      },
      "execution_count": 20,
      "outputs": [
        {
          "output_type": "stream",
          "name": "stdout",
          "text": [
            "\n",
            "✅ Data hasil analisis telah berhasil disimpan ke file 'hasil_analisis_sentimen.csv'\n"
          ]
        }
      ]
    },
    {
      "cell_type": "code",
      "source": [
        "# Langkah 6: Visualisasi Hasil Analisis Sentimen\n",
        "print(\"Membuat visualisasi hasil analisis sentimen...\")\n",
        "\n",
        "# Menghitung jumlah setiap kategori sentimen\n",
        "sentiment_counts = df['sentiment'].value_counts()\n",
        "\n",
        "# Import matplotlib and seaborn\n",
        "import matplotlib.pyplot as plt\n",
        "import seaborn as sns\n",
        "\n",
        "# Mengatur gaya plot\n",
        "plt.style.use('seaborn-v0_8-whitegrid')\n",
        "plt.figure(figsize=(8, 6))\n",
        "\n",
        "# Membuat bar plot\n",
        "sns.barplot(x=sentiment_counts.index, y=sentiment_counts.values, palette='viridis')\n",
        "\n",
        "# Menambahkan judul dan label\n",
        "plt.title(' Analisis Sentimen ', fontsize=16)\n",
        "plt.xlabel('Sentimen', fontsize=12)\n",
        "plt.ylabel('Jumlah Ulasan', fontsize=12)\n",
        "plt.xticks(rotation=0) # Agar label x-axis tidak miring\n",
        "\n",
        "# Menampilkan plot\n",
        "plt.show()"
      ],
      "metadata": {
        "colab": {
          "base_uri": "https://localhost:8080/",
          "height": 686
        },
        "id": "XoX7P15iSabs",
        "outputId": "857f5cd3-b272-45e6-80ad-36a0e5c9bd48"
      },
      "execution_count": 23,
      "outputs": [
        {
          "output_type": "stream",
          "name": "stdout",
          "text": [
            "Membuat visualisasi hasil analisis sentimen...\n"
          ]
        },
        {
          "output_type": "stream",
          "name": "stderr",
          "text": [
            "/tmp/ipython-input-2513801966.py:16: FutureWarning: \n",
            "\n",
            "Passing `palette` without assigning `hue` is deprecated and will be removed in v0.14.0. Assign the `x` variable to `hue` and set `legend=False` for the same effect.\n",
            "\n",
            "  sns.barplot(x=sentiment_counts.index, y=sentiment_counts.values, palette='viridis')\n"
          ]
        },
        {
          "output_type": "display_data",
          "data": {
            "text/plain": [
              "<Figure size 800x600 with 1 Axes>"
            ],
            "image/png": "[encoded data removed]"
          },
          "metadata": {}
        }
      ]
    }
  ]
}