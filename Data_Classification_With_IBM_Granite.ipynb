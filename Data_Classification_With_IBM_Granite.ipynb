{
  "nbformat": 4,
  "nbformat_minor": 0,
  "metadata": {
    "colab": {
      "provenance": []
    },
    "kernelspec": {
      "name": "python3",
      "display_name": "Python 3"
    },
    "language_info": {
      "name": "python"
    },
    "widgets": {
      "application/vnd.jupyter.widget-state+json": {
        "8104088c2e664b299a3f9cb25770b45e": {
          "model_module": "@jupyter-widgets/controls",
          "model_name": "HBoxModel",
          "model_module_version": "1.5.0",
          "state": {
            "_dom_classes": [],
            "_model_module": "@jupyter-widgets/controls",
            "_model_module_version": "1.5.0",
            "_model_name": "HBoxModel",
            "_view_count": null,
            "_view_module": "@jupyter-widgets/controls",
            "_view_module_version": "1.5.0",
            "_view_name": "HBoxView",
            "box_style": "",
            "children": [
              "IPY_MODEL_ab1cbe61867349afab7a0a038470cc3c",
              "IPY_MODEL_fced893c84e544e79f580ff66dd4b001",
              "IPY_MODEL_d1d8d7131ceb417aa353f501dc061c52"
            ],
            "layout": "IPY_MODEL_c845b73d7b794d5db3c859599741e654"
          }
        },
        "ab1cbe61867349afab7a0a038470cc3c": {
          "model_module": "@jupyter-widgets/controls",
          "model_name": "HTMLModel",
          "model_module_version": "1.5.0",
          "state": {
            "_dom_classes": [],
            "_model_module": "@jupyter-widgets/controls",
            "_model_module_version": "1.5.0",
            "_model_name": "HTMLModel",
            "_view_count": null,
            "_view_module": "@jupyter-widgets/controls",
            "_view_module_version": "1.5.0",
            "_view_name": "HTMLView",
            "description": "",
            "description_tooltip": null,
            "layout": "IPY_MODEL_b9f548422b8a4365a82905fbd0ab5ff0",
            "placeholder": "​",
            "style": "IPY_MODEL_d1cf5bb905624296ab26ba0dbf9f4eb7",
            "value": "100%"
          }
        },
        "fced893c84e544e79f580ff66dd4b001": {
          "model_module": "@jupyter-widgets/controls",
          "model_name": "FloatProgressModel",
          "model_module_version": "1.5.0",
          "state": {
            "_dom_classes": [],
            "_model_module": "@jupyter-widgets/controls",
            "_model_module_version": "1.5.0",
            "_model_name": "FloatProgressModel",
            "_view_count": null,
            "_view_module": "@jupyter-widgets/controls",
            "_view_module_version": "1.5.0",
            "_view_name": "ProgressView",
            "bar_style": "success",
            "description": "",
            "description_tooltip": null,
            "layout": "IPY_MODEL_568859f990044e9da461d6649a55301a",
            "max": 21,
            "min": 0,
            "orientation": "horizontal",
            "style": "IPY_MODEL_2b9ea2e03d064139b6282a18cb0af522",
            "value": 21
          }
        },
        "d1d8d7131ceb417aa353f501dc061c52": {
          "model_module": "@jupyter-widgets/controls",
          "model_name": "HTMLModel",
          "model_module_version": "1.5.0",
          "state": {
            "_dom_classes": [],
            "_model_module": "@jupyter-widgets/controls",
            "_model_module_version": "1.5.0",
            "_model_name": "HTMLModel",
            "_view_count": null,
            "_view_module": "@jupyter-widgets/controls",
            "_view_module_version": "1.5.0",
            "_view_name": "HTMLView",
            "description": "",
            "description_tooltip": null,
            "layout": "IPY_MODEL_7315ed436d794b449e3802ebe923906c",
            "placeholder": "​",
            "style": "IPY_MODEL_2b023ee1cc8244b79cc40ecdd3249e5e",
            "value": " 21/21 [00:36&lt;00:00,  1.21it/s]"
          }
        },
        "c845b73d7b794d5db3c859599741e654": {
          "model_module": "@jupyter-widgets/base",
          "model_name": "LayoutModel",
          "model_module_version": "1.2.0",
          "state": {
            "_model_module": "@jupyter-widgets/base",
            "_model_module_version": "1.2.0",
            "_model_name": "LayoutModel",
            "_view_count": null,
            "_view_module": "@jupyter-widgets/base",
            "_view_module_version": "1.2.0",
            "_view_name": "LayoutView",
            "align_content": null,
            "align_items": null,
            "align_self": null,
            "border": null,
            "bottom": null,
            "display": null,
            "flex": null,
            "flex_flow": null,
            "grid_area": null,
            "grid_auto_columns": null,
            "grid_auto_flow": null,
            "grid_auto_rows": null,
            "grid_column": null,
            "grid_gap": null,
            "grid_row": null,
            "grid_template_areas": null,
            "grid_template_columns": null,
            "grid_template_rows": null,
            "height": null,
            "justify_content": null,
            "justify_items": null,
            "left": null,
            "margin": null,
            "max_height": null,
            "max_width": null,
            "min_height": null,
            "min_width": null,
            "object_fit": null,
            "object_position": null,
            "order": null,
            "overflow": null,
            "overflow_x": null,
            "overflow_y": null,
            "padding": null,
            "right": null,
            "top": null,
            "visibility": null,
            "width": null
          }
        },
        "b9f548422b8a4365a82905fbd0ab5ff0": {
          "model_module": "@jupyter-widgets/base",
          "model_name": "LayoutModel",
          "model_module_version": "1.2.0",
          "state": {
            "_model_module": "@jupyter-widgets/base",
            "_model_module_version": "1.2.0",
            "_model_name": "LayoutModel",
            "_view_count": null,
            "_view_module": "@jupyter-widgets/base",
            "_view_module_version": "1.2.0",
            "_view_name": "LayoutView",
            "align_content": null,
            "align_items": null,
            "align_self": null,
            "border": null,
            "bottom": null,
            "display": null,
            "flex": null,
            "flex_flow": null,
            "grid_area": null,
            "grid_auto_columns": null,
            "grid_auto_flow": null,
            "grid_auto_rows": null,
            "grid_column": null,
            "grid_gap": null,
            "grid_row": null,
            "grid_template_areas": null,
            "grid_template_columns": null,
            "grid_template_rows": null,
            "height": null,
            "justify_content": null,
            "justify_items": null,
            "left": null,
            "margin": null,
            "max_height": null,
            "max_width": null,
            "min_height": null,
            "min_width": null,
            "object_fit": null,
            "object_position": null,
            "order": null,
            "overflow": null,
            "overflow_x": null,
            "overflow_y": null,
            "padding": null,
            "right": null,
            "top": null,
            "visibility": null,
            "width": null
          }
        },
        "d1cf5bb905624296ab26ba0dbf9f4eb7": {
          "model_module": "@jupyter-widgets/controls",
          "model_name": "DescriptionStyleModel",
          "model_module_version": "1.5.0",
          "state": {
            "_model_module": "@jupyter-widgets/controls",
            "_model_module_version": "1.5.0",
            "_model_name": "DescriptionStyleModel",
            "_view_count": null,
            "_view_module": "@jupyter-widgets/base",
            "_view_module_version": "1.2.0",
            "_view_name": "StyleView",
            "description_width": ""
          }
        },
        "568859f990044e9da461d6649a55301a": {
          "model_module": "@jupyter-widgets/base",
          "model_name": "LayoutModel",
          "model_module_version": "1.2.0",
          "state": {
            "_model_module": "@jupyter-widgets/base",
            "_model_module_version": "1.2.0",
            "_model_name": "LayoutModel",
            "_view_count": null,
            "_view_module": "@jupyter-widgets/base",
            "_view_module_version": "1.2.0",
            "_view_name": "LayoutView",
            "align_content": null,
            "align_items": null,
            "align_self": null,
            "border": null,
            "bottom": null,
            "display": null,
            "flex": null,
            "flex_flow": null,
            "grid_area": null,
            "grid_auto_columns": null,
            "grid_auto_flow": null,
            "grid_auto_rows": null,
            "grid_column": null,
            "grid_gap": null,
            "grid_row": null,
            "grid_template_areas": null,
            "grid_template_columns": null,
            "grid_template_rows": null,
            "height": null,
            "justify_content": null,
            "justify_items": null,
            "left": null,
            "margin": null,
            "max_height": null,
            "max_width": null,
            "min_height": null,
            "min_width": null,
            "object_fit": null,
            "object_position": null,
            "order": null,
            "overflow": null,
            "overflow_x": null,
            "overflow_y": null,
            "padding": null,
            "right": null,
            "top": null,
            "visibility": null,
            "width": null
          }
        },
        "2b9ea2e03d064139b6282a18cb0af522": {
          "model_module": "@jupyter-widgets/controls",
          "model_name": "ProgressStyleModel",
          "model_module_version": "1.5.0",
          "state": {
            "_model_module": "@jupyter-widgets/controls",
            "_model_module_version": "1.5.0",
            "_model_name": "ProgressStyleModel",
            "_view_count": null,
            "_view_module": "@jupyter-widgets/base",
            "_view_module_version": "1.2.0",
            "_view_name": "StyleView",
            "bar_color": null,
            "description_width": ""
          }
        },
        "7315ed436d794b449e3802ebe923906c": {
          "model_module": "@jupyter-widgets/base",
          "model_name": "LayoutModel",
          "model_module_version": "1.2.0",
          "state": {
            "_model_module": "@jupyter-widgets/base",
            "_model_module_version": "1.2.0",
            "_model_name": "LayoutModel",
            "_view_count": null,
            "_view_module": "@jupyter-widgets/base",
            "_view_module_version": "1.2.0",
            "_view_name": "LayoutView",
            "align_content": null,
            "align_items": null,
            "align_self": null,
            "border": null,
            "bottom": null,
            "display": null,
            "flex": null,
            "flex_flow": null,
            "grid_area": null,
            "grid_auto_columns": null,
            "grid_auto_flow": null,
            "grid_auto_rows": null,
            "grid_column": null,
            "grid_gap": null,
            "grid_row": null,
            "grid_template_areas": null,
            "grid_template_columns": null,
            "grid_template_rows": null,
            "height": null,
            "justify_content": null,
            "justify_items": null,
            "left": null,
            "margin": null,
            "max_height": null,
            "max_width": null,
            "min_height": null,
            "min_width": null,
            "object_fit": null,
            "object_position": null,
            "order": null,
            "overflow": null,
            "overflow_x": null,
            "overflow_y": null,
            "padding": null,
            "right": null,
            "top": null,
            "visibility": null,
            "width": null
          }
        },
        "2b023ee1cc8244b79cc40ecdd3249e5e": {
          "model_module": "@jupyter-widgets/controls",
          "model_name": "DescriptionStyleModel",
          "model_module_version": "1.5.0",
          "state": {
            "_model_module": "@jupyter-widgets/controls",
            "_model_module_version": "1.5.0",
            "_model_name": "DescriptionStyleModel",
            "_view_count": null,
            "_view_module": "@jupyter-widgets/base",
            "_view_module_version": "1.2.0",
            "_view_name": "StyleView",
            "description_width": ""
          }
        }
      }
    }
  },
  "cells": [
    {
      "cell_type": "code",
      "execution_count": 31,
      "metadata": {
        "id": "o929kbl034rf"
      },
      "outputs": [],
      "source": [
        "# Langkah 1: Instalasi library yang dibutuhkan\n",
        "!pip install -q langchain_community replicate pandas matplotlib seaborn\n",
        "\n",
        "#---------------------------------------------------------------------"
      ]
    },
    {
      "cell_type": "code",
      "source": [
        "# Langkah 2: Impor library dan setup API Key\n",
        "import os\n",
        "import pandas as pd\n",
        "import matplotlib.pyplot as plt\n",
        "import seaborn as sns\n",
        "from google.colab import userdata\n",
        "from langchain_community.llms import Replicate"
      ],
      "metadata": {
        "id": "s6qQp9o84DZT"
      },
      "execution_count": 32,
      "outputs": []
    },
    {
      "cell_type": "code",
      "source": [
        "# Pastikan Anda telah menyimpan API token Anda di Colab Secrets dengan nama 'api_token'\n",
        "try:\n",
        "    api_token = userdata.get('api_token')\n",
        "    os.environ[\"REPLICATE_API_TOKEN\"] = api_token\n",
        "except Exception as e:\n",
        "    print(\"Pastikan Anda sudah mengatur 'api_token' di Colab Secrets (klik ikon kunci di sidebar kiri).\")\n",
        "    print(e)\n",
        "\n",
        "#---------------------------------------------------------------------"
      ],
      "metadata": {
        "id": "ZZsSbKWn4GWV"
      },
      "execution_count": 33,
      "outputs": []
    },
    {
      "cell_type": "code",
      "source": [
        "# Mengasumsikan file 'reviews.csv' sudah ada\n",
        "print(\"Membaca data dari reviews.csv...\")\n",
        "df = pd.read_csv('reviews.csv')\n",
        "\n",
        "# Menampilkan seluruh isi DataFrame\n",
        "print(\"Menampilkan semua data yang berhasil dimuat:\")\n",
        "print(df)"
      ],
      "metadata": {
        "colab": {
          "base_uri": "https://localhost:8080/"
        },
        "id": "ijfXS77XG17k",
        "outputId": "b2b259ec-a2f9-4420-af6c-285876337869"
      },
      "execution_count": 34,
      "outputs": [
        {
          "output_type": "stream",
          "name": "stdout",
          "text": [
            "Membaca data dari reviews.csv...\n",
            "Menampilkan semua data yang berhasil dimuat:\n",
            "                                          review_text\n",
            "0   Oh dear Shingeki no Kyojin, where do I even be...\n",
            "1   Attack on Titan is a particularly unique case ...\n",
            "2   So what on earth? What have I done? How am I n...\n",
            "3   There’s a current trend that favors dark and e...\n",
            "4   Let's get straight to it! Shingeki no Kyojin i...\n",
            "5   This anime made my mouth open wide for longer ...\n",
            "6   It's nice to have an anime this popular that i...\n",
            "7   The hype of 2013 leading to an ending that clo...\n",
            "8   Shingeki no Kyojin is an amazingly written sto...\n",
            "9   Shingeki no Kyojin, the anime that has brought...\n",
            "10  The fact that so many bloggers still name Shin...\n",
            "11  Well, I'll admit that it's been a while since ...\n",
            "12  Animation? Great quality. Premise? Interesting...\n",
            "13  So, Shingeki no Kyojin was like the most hyped...\n",
            "14  an overrated, snoozefest at best. Many of my f...\n",
            "15  This show is honestly the most overrated garba...\n",
            "16  Oh boy, Attack on Titan. Up front, the more ti...\n",
            "17  To begin, I mostly stumbled across AoT because...\n",
            "18  The best way I can think of describing my expe...\n",
            "19  When I look at the rankings of this anime, I a...\n",
            "20  Just like a lot of people I suppose, I watched...\n"
          ]
        }
      ]
    },
    {
      "cell_type": "code",
      "source": [
        "#Langkah 4: Setup Model LLM dan Fungsi Analisis Sentimen\n",
        "# Inisialisasi model dari Replicate\n",
        "model_name = \"ibm-granite/granite-3.2-8b-instruct\"\n",
        "replicate_llm = Replicate(\n",
        "    model=model_name,\n",
        "    replicate_api_token=api_token,\n",
        "    model_kwargs={\"max_length\": 512} # Mengatur parameter model\n",
        ")\n",
        "\n",
        "def analyze_sentiment(review_text):\n",
        "    \"\"\"\n",
        "    Fungsi untuk menganalisis sentimen dari satu teks ulasan.\n",
        "    Mengembalikan 'Positive', 'Negative', atau 'Mixed'.\n",
        "    \"\"\"\n",
        "    prompt = f\"\"\"\n",
        "    Classify the following review as Positive, Negative, or Mixed.\n",
        "    Only return one word for the classification.\n",
        "\n",
        "    Review: \"{review_text}\"\n",
        "    Classification:\n",
        "    \"\"\"\n",
        "    try:\n",
        "        response = replicate_llm.invoke(prompt)\n",
        "        # Membersihkan respons untuk mendapatkan label yang bersih\n",
        "        cleaned_response = response.strip().capitalize()\n",
        "        if \"Positive\" in cleaned_response:\n",
        "            return \"Positive\"\n",
        "        elif \"Negative\" in cleaned_response:\n",
        "            return \"Negative\"\n",
        "        elif \"Mixed\" in cleaned_response:\n",
        "            return \"Mixed\"\n",
        "        else:\n",
        "            return \"Unknown\" # Fallback jika respons tidak terduga\n",
        "    except Exception as e:\n",
        "        print(f\"Error analyzing review: {e}\")\n",
        "        return \"Error\""
      ],
      "metadata": {
        "id": "XhwylX7qFSAA"
      },
      "execution_count": 35,
      "outputs": []
    },
    {
      "cell_type": "code",
      "source": [
        "# Langkah 5: Melakukan Analisis Sentimen pada Setiap Ulasan\n",
        "print(\"Memulai analisis sentimen untuk setiap ulasan...\")\n",
        "# Membuat kolom baru 'sentiment' dengan menerapkan fungsi analisis\n",
        "# Tqdm digunakan untuk menampilkan progress bar (opsional, tapi membantu)\n",
        "from tqdm.auto import tqdm\n",
        "tqdm.pandas()\n",
        "df['sentiment'] = df['review_text'].progress_apply(analyze_sentiment)\n",
        "\n",
        "print(\"\\nAnalisis sentimen selesai. Hasilnya:\")\n",
        "print(df)\n",
        "print(\"\\n\" + \"=\"*40 + \"\\n\")\n"
      ],
      "metadata": {
        "colab": {
          "base_uri": "https://localhost:8080/",
          "height": 535,
          "referenced_widgets": [
            "8104088c2e664b299a3f9cb25770b45e",
            "ab1cbe61867349afab7a0a038470cc3c",
            "fced893c84e544e79f580ff66dd4b001",
            "d1d8d7131ceb417aa353f501dc061c52",
            "c845b73d7b794d5db3c859599741e654",
            "b9f548422b8a4365a82905fbd0ab5ff0",
            "d1cf5bb905624296ab26ba0dbf9f4eb7",
            "568859f990044e9da461d6649a55301a",
            "2b9ea2e03d064139b6282a18cb0af522",
            "7315ed436d794b449e3802ebe923906c",
            "2b023ee1cc8244b79cc40ecdd3249e5e"
          ]
        },
        "id": "kjv5522eFWqM",
        "outputId": "701d92ef-b0d0-44ef-d02a-cdea39585304"
      },
      "execution_count": 36,
      "outputs": [
        {
          "output_type": "stream",
          "name": "stdout",
          "text": [
            "Memulai analisis sentimen untuk setiap ulasan...\n"
          ]
        },
        {
          "output_type": "display_data",
          "data": {
            "text/plain": [
              "  0%|          | 0/21 [00:00<?, ?it/s]"
            ],
            "application/vnd.jupyter.widget-view+json": {
              "version_major": 2,
              "version_minor": 0,
              "model_id": "8104088c2e664b299a3f9cb25770b45e"
            }
          },
          "metadata": {}
        },
        {
          "output_type": "stream",
          "name": "stdout",
          "text": [
            "\n",
            "Analisis sentimen selesai. Hasilnya:\n",
            "                                          review_text sentiment\n",
            "0   Oh dear Shingeki no Kyojin, where do I even be...  Positive\n",
            "1   Attack on Titan is a particularly unique case ...     Mixed\n",
            "2   So what on earth? What have I done? How am I n...     Mixed\n",
            "3   There’s a current trend that favors dark and e...  Positive\n",
            "4   Let's get straight to it! Shingeki no Kyojin i...  Positive\n",
            "5   This anime made my mouth open wide for longer ...  Positive\n",
            "6   It's nice to have an anime this popular that i...     Mixed\n",
            "7   The hype of 2013 leading to an ending that clo...     Mixed\n",
            "8   Shingeki no Kyojin is an amazingly written sto...  Positive\n",
            "9   Shingeki no Kyojin, the anime that has brought...  Positive\n",
            "10  The fact that so many bloggers still name Shin...  Negative\n",
            "11  Well, I'll admit that it's been a while since ...  Negative\n",
            "12  Animation? Great quality. Premise? Interesting...  Negative\n",
            "13  So, Shingeki no Kyojin was like the most hyped...  Negative\n",
            "14  an overrated, snoozefest at best. Many of my f...  Negative\n",
            "15  This show is honestly the most overrated garba...  Negative\n",
            "16  Oh boy, Attack on Titan. Up front, the more ti...  Negative\n",
            "17  To begin, I mostly stumbled across AoT because...     Mixed\n",
            "18  The best way I can think of describing my expe...  Negative\n",
            "19  When I look at the rankings of this anime, I a...  Negative\n",
            "20  Just like a lot of people I suppose, I watched...  Negative\n",
            "\n",
            "========================================\n",
            "\n"
          ]
        }
      ]
    },
    {
      "cell_type": "code",
      "source": [
        "nama_file_hasil = 'hasil_analisis_sentimen.csv'\n",
        "df.to_csv(nama_file_hasil, index=False)\n",
        "\n",
        "print(f\"\\n✅ Data hasil analisis telah berhasil disimpan ke file '{nama_file_hasil}'\")\n"
      ],
      "metadata": {
        "colab": {
          "base_uri": "https://localhost:8080/"
        },
        "id": "1e7UTreaLjUI",
        "outputId": "cb16fa8c-c447-44b3-991b-584ed4e454a5"
      },
      "execution_count": 39,
      "outputs": [
        {
          "output_type": "stream",
          "name": "stdout",
          "text": [
            "\n",
            "✅ Data hasil analisis telah berhasil disimpan ke file 'hasil_analisis_sentimen.csv'\n"
          ]
        }
      ]
    },
    {
      "cell_type": "code",
      "source": [
        "# Langkah 6: Visualisasi Hasil Analisis Sentimen\n",
        "print(\"Membuat visualisasi hasil analisis sentimen...\")\n",
        "\n",
        "# Menghitung jumlah setiap kategori sentimen\n",
        "sentiment_counts = df['sentiment'].value_counts()\n",
        "\n",
        "# Mengatur gaya plot\n",
        "plt.style.use('seaborn-v0_8-whitegrid')\n",
        "plt.figure(figsize=(8, 6))\n",
        "\n",
        "# Membuat bar plot\n",
        "sns.barplot(x=sentiment_counts.index, y=sentiment_counts.values, palette='viridis')\n",
        "\n",
        "# Menambahkan judul dan label\n",
        "plt.title('Distribusi Analisis Sentimen Ulasan Pelanggan', fontsize=16)\n",
        "plt.xlabel('Sentimen', fontsize=12)\n",
        "plt.ylabel('Jumlah Ulasan', fontsize=12)\n",
        "plt.xticks(rotation=0) # Agar label x-axis tidak miring\n",
        "\n",
        "# Menampilkan plot\n",
        "plt.show()\n"
      ],
      "metadata": {
        "id": "jER38RnKFZOU",
        "colab": {
          "base_uri": "https://localhost:8080/",
          "height": 686
        },
        "outputId": "31ea75ef-71df-42fe-9781-087fabcd061d"
      },
      "execution_count": 38,
      "outputs": [
        {
          "output_type": "stream",
          "name": "stdout",
          "text": [
            "Membuat visualisasi hasil analisis sentimen...\n"
          ]
        },
        {
          "output_type": "stream",
          "name": "stderr",
          "text": [
            "/tmp/ipython-input-3481982626.py:12: FutureWarning: \n",
            "\n",
            "Passing `palette` without assigning `hue` is deprecated and will be removed in v0.14.0. Assign the `x` variable to `hue` and set `legend=False` for the same effect.\n",
            "\n",
            "  sns.barplot(x=sentiment_counts.index, y=sentiment_counts.values, palette='viridis')\n"
          ]
        },
        {
          "output_type": "display_data",
          "data": {
            "text/plain": [
              "<Figure size 800x600 with 1 Axes>"
            ],
            "image/png": "[encoded data removed]"
          },
          "metadata": {}
        }
      ]
    }
  ]
}